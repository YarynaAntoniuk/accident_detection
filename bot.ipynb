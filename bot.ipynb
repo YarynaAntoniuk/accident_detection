{
 "cells": [
  {
   "cell_type": "code",
   "execution_count": 1,
   "id": "bc8a692b-0308-48ff-b570-d5d4a9b22193",
   "metadata": {},
   "outputs": [],
   "source": [
    "import requests\n",
    "import json\n",
    "import telebot"
   ]
  },
  {
   "cell_type": "code",
   "execution_count": null,
   "id": "e85a5c99-988a-4e24-9d3e-2bc3164c279a",
   "metadata": {},
   "outputs": [],
   "source": [
    "BOT_TOKEN = \"7024941864:AAE7uWV_FCYFu16uhgOloMPLhyLf7va3rU8\"\n",
    "\n",
    "bot = telebot.TeleBot(BOT_TOKEN)\n",
    "\n",
    "@bot.message_handler(commands=['start'])\n",
    "def send_welcome(message):\n",
    "    bot.reply_to(message, \"Вітаю, даний бот створений для надсилання інформації про ДТП\")\n",
    "\n",
    "@bot.message_handler(commands=['hello'])\n",
    "def send_hello(message):\n",
    "    bot.reply_to(message, \"Очікуйте на інформацію про нові випадки ДТП\")\n",
    "\n",
    "@bot.message_handler(func=lambda message: True)\n",
    "def echo_all(message):\n",
    "    chat_id = message.chat.id\n",
    "    bot.send_photo(chat_id, telebot.types.InputFile('detections/detected.jpg'))\n",
    "\n",
    "bot.infinity_polling()"
   ]
  },
  {
   "cell_type": "code",
   "execution_count": null,
   "id": "139c1195-66ea-4dbf-b970-0ca41efb6714",
   "metadata": {},
   "outputs": [],
   "source": []
  },
  {
   "cell_type": "code",
   "execution_count": null,
   "id": "d924d362-c636-4d8f-9181-e3a17030dc0b",
   "metadata": {},
   "outputs": [],
   "source": []
  }
 ],
 "metadata": {
  "kernelspec": {
   "display_name": "Python 3 (ipykernel)",
   "language": "python",
   "name": "python3"
  },
  "language_info": {
   "codemirror_mode": {
    "name": "ipython",
    "version": 3
   },
   "file_extension": ".py",
   "mimetype": "text/x-python",
   "name": "python",
   "nbconvert_exporter": "python",
   "pygments_lexer": "ipython3",
   "version": "3.11.4"
  }
 },
 "nbformat": 4,
 "nbformat_minor": 5
}
