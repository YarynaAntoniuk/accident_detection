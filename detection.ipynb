{
 "cells": [
  {
   "cell_type": "code",
   "execution_count": 1,
   "id": "28715843-ec6a-4efd-a1c4-c0c1383e5d74",
   "metadata": {
    "tags": []
   },
   "outputs": [
    {
     "data": {
      "text/plain": [
       "'8.1.24'"
      ]
     },
     "execution_count": 1,
     "metadata": {},
     "output_type": "execute_result"
    }
   ],
   "source": [
    "import cv2\n",
    "import numpy as np\n",
    "import glob\n",
    "import ultralytics\n",
    "import supervision as sv\n",
    "from ultralytics import YOLO\n",
    "import torch\n",
    "import datetime\n",
    "import time\n",
    "import os\n",
    "import torchvision\n",
    "from tqdm import tqdm\n",
    "\n",
    "import requests\n",
    "import json\n",
    "import telebot\n",
    "\n",
    "os.environ[\"KMP_DUPLICATE_LIB_OK\"]=\"TRUE\"\n",
    "ultralytics.__version__"
   ]
  },
  {
   "cell_type": "code",
   "execution_count": 2,
   "id": "9531d94f-4345-4e9a-8d77-2971dc93cd79",
   "metadata": {
    "tags": []
   },
   "outputs": [
    {
     "data": {
      "text/plain": [
       "(1080, 1920, 3)"
      ]
     },
     "execution_count": 2,
     "metadata": {},
     "output_type": "execute_result"
    }
   ],
   "source": [
    "img = cv2.imread('DATA/Drone/0/seq3-drone_0000001.jpg')\n",
    "img.shape"
   ]
  },
  {
   "cell_type": "code",
   "execution_count": 123,
   "id": "2d5ad1e8-ff46-40fe-ba1c-381d94712333",
   "metadata": {
    "tags": []
   },
   "outputs": [],
   "source": [
    "BOT_TOKEN = \"7024941864:AAE7uWV_FCYFu16uhgOloMPLhyLf7va3rU8\"\n",
    "\n",
    "bot = telebot.TeleBot(BOT_TOKEN)"
   ]
  },
  {
   "cell_type": "code",
   "execution_count": 160,
   "id": "91d667ca-ee6b-487e-816e-283b9d0b6651",
   "metadata": {
    "tags": []
   },
   "outputs": [
    {
     "name": "stderr",
     "output_type": "stream",
     "text": [
      "C:\\Users\\stepa\\AppData\\Local\\Temp\\ipykernel_5768\\4187216398.py:1: DeprecationWarning: default is deprecated: `ColorPalette.default()` is deprecated and will be removed in `supervision-0.20.0`. Use `Color.DEFAULT` instead.\n",
      "  COLORS = sv.ColorPalette.default()\n"
     ]
    }
   ],
   "source": [
    "COLORS = sv.ColorPalette.default()\n",
    "\n",
    "class VideoProcessor:\n",
    "    def __init__(\n",
    "        self,\n",
    "        source_weights_path: str,\n",
    "        source_video_path: str,\n",
    "        save_name: str,\n",
    "        target_video_path: str = None,\n",
    "        confidence_threshold: float = 0.3,\n",
    "        iou_threshold: float = 0.7    \n",
    "    ) -> None:\n",
    "        self.source_video_path = source_video_path\n",
    "        self.target_video_path = target_video_path\n",
    "        self.confidence_threshold = confidence_threshold\n",
    "        self.iou_threshold = iou_threshold\n",
    "        self.save_name = save_name\n",
    "        \n",
    "        self.model = YOLO(source_weights_path)\n",
    "        self.tracker = sv.ByteTrack()\n",
    "        self.box_annotator = sv.BoxAnnotator(color=COLORS) \n",
    "        self.detection_list = []\n",
    "    \n",
    "    def process_video(self):\n",
    "        frame_generator = sv.get_video_frames_generator(source_path=self.source_video_path)\n",
    "        video_info = sv.VideoInfo.from_video_path(self.source_video_path)\n",
    "        \n",
    "        writer = cv2.VideoWriter(self.save_name,  \n",
    "                         cv2.VideoWriter_fourcc(*'MJPG'), \n",
    "                         10, video_info.resolution_wh)\n",
    "        \n",
    "        for frame in frame_generator:\n",
    "            processed_frame = self.process_frame(frame)\n",
    "            writer.write(processed_frame)\n",
    "            cv2.imshow(\"frame\", processed_frame)\n",
    "            if cv2.waitKey(1) & 0xFF == ord(\"q\"):\n",
    "                break\n",
    "\n",
    "        bot.send_photo(324192159, telebot.types.InputFile('detections/detected.jpg'), 'ДТП по вул. Личаківська/Смольського')\n",
    "        \n",
    "        writer.release()\n",
    "        cv2.destroyAllWindows\n",
    "    \n",
    "    def annotate_frame(\n",
    "        self,\n",
    "        frame: np.ndarray,\n",
    "        detections: sv.Detections\n",
    "    ) -> np.ndarray:\n",
    "        \n",
    "        annotated_frame = frame.copy()\n",
    "        labels = [f\"#{tracker_id}\" for tracker_id in detections.tracker_id]\n",
    "        annotated_frame = self.box_annotator.annotate(\n",
    "            scene=annotated_frame, \n",
    "            detections=detections,\n",
    "            labels=labels\n",
    "        )\n",
    "        \n",
    "        return annotated_frame\n",
    "    \n",
    "    def process_frame(self, frame: np.ndarray) -> np.ndarray:\n",
    "        result = self.model(\n",
    "            frame,\n",
    "            verbose=False,\n",
    "            conf=self.confidence_threshold,\n",
    "            iou=self.iou_threshold\n",
    "        )[0]\n",
    "\n",
    "        detections = sv.Detections.from_ultralytics(result)\n",
    "        detections = self.tracker.update_with_detections(detections)\n",
    "\n",
    "        detection = result.tojson()\n",
    "\n",
    "        self.detection_list.append(detection[1:-1])\n",
    "        if len(self.detection_list) > 4:\n",
    "            cv2.imwrite('detections/detected.jpg',frame)\n",
    "        if detection == '[]':\n",
    "            self.detection_list = []\n",
    "        \n",
    "        return self.annotate_frame(frame,detections)"
   ]
  },
  {
   "cell_type": "code",
   "execution_count": 162,
   "id": "5158dbfe-5c8e-43b9-ac49-7659e9df0326",
   "metadata": {
    "tags": []
   },
   "outputs": [],
   "source": [
    "processor = VideoProcessor(\n",
    "    #source_weights_path=\"yolov8m.pt\",\n",
    "    source_weights_path=\"best_model/train13/weights/best.pt\",\n",
    "    source_video_path=\"DATA/lviv_acc6.MP4\",\n",
    "    confidence_threshold=0.7,\n",
    "    iou_threshold=0.3,\n",
    "    save_name='new_detection.mp4'\n",
    ")\n",
    "\n",
    "processor.process_video()"
   ]
  },
  {
   "cell_type": "code",
   "execution_count": 142,
   "id": "a44089a2-cd06-48bd-89aa-51f3e0703150",
   "metadata": {},
   "outputs": [],
   "source": [
    "# BOT_TOKEN = \"7024941864:AAE7uWV_FCYFu16uhgOloMPLhyLf7va3rU8\"\n",
    "\n",
    "# bot = telebot.TeleBot(BOT_TOKEN)\n",
    "\n",
    "# @bot.message_handler(commands=['start'])\n",
    "# def send_welcome(message):\n",
    "#     bot.reply_to(message, \"Вітаю, даний бот створений для надсилання інформації про ДТП\")\n",
    "\n",
    "# @bot.message_handler(commands=['hello'])\n",
    "# def send_hello(message):\n",
    "#     bot.reply_to(message, \"Очікуйте на інформацію про нові випадки ДТП\")\n",
    "\n",
    "# bot.send_img(324192159, img, caption=\"New image\")\n",
    "    \n",
    "# bot.infinity_polling()"
   ]
  }
 ],
 "metadata": {
  "kernelspec": {
   "display_name": "Python 3 (ipykernel)",
   "language": "python",
   "name": "python3"
  },
  "language_info": {
   "codemirror_mode": {
    "name": "ipython",
    "version": 3
   },
   "file_extension": ".py",
   "mimetype": "text/x-python",
   "name": "python",
   "nbconvert_exporter": "python",
   "pygments_lexer": "ipython3",
   "version": "3.11.4"
  }
 },
 "nbformat": 4,
 "nbformat_minor": 5
}
